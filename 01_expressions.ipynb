{
  "nbformat": 4,
  "nbformat_minor": 0,
  "metadata": {
    "colab": {
      "provenance": [],
      "authorship_tag": "ABX9TyN+ACtmBJws0hAe6eSBYoFW",
      "include_colab_link": true
    },
    "kernelspec": {
      "name": "python3",
      "display_name": "Python 3"
    },
    "language_info": {
      "name": "python"
    }
  },
  "cells": [
    {
      "cell_type": "markdown",
      "metadata": {
        "id": "view-in-github",
        "colab_type": "text"
      },
      "source": [
        "<a href=\"https://colab.research.google.com/github/muhammad1abbasi/Project-4-Assignments/blob/main/01_expressions.ipynb\" target=\"_parent\"><img src=\"https://colab.research.google.com/assets/colab-badge.svg\" alt=\"Open In Colab\"/></a>"
      ]
    },
    {
      "cell_type": "markdown",
      "source": [
        "01_dicesimulator.md"
      ],
      "metadata": {
        "id": "ylKBUUio7I9N"
      }
    },
    {
      "cell_type": "code",
      "execution_count": null,
      "metadata": {
        "id": "Shx3F2AN7CC8"
      },
      "outputs": [],
      "source": [
        "import random\n",
        "\n",
        "NUM_SIDES = 6\n",
        "\n",
        "def roll_dice():\n",
        "  \"\"\"\n",
        "  Simulates rolling two dice and prints their total\n",
        "  \"\"\"\n",
        "  die1: int = random.randint(1, NUM_SIDES)\n",
        "  die2: int = random.randint(1, NUM_SIDES)\n",
        "  total: int = die1 + die2\n",
        "  print(\"Total of two dice:\", total)\n",
        "\n",
        "def main():\n",
        "  die1: int = 10\n",
        "  print(\"die1 in main() starts as :\" + str(die1))\n",
        "  roll_dice()\n",
        "  roll_dice()\n",
        "  roll_dice()\n",
        "  print(\"die1 in main() is:\" + str(die1))\n",
        "\n",
        "\n",
        "if __name__ == \"__main__\":\n",
        "  main()"
      ]
    },
    {
      "cell_type": "markdown",
      "source": [
        "02_e=mc2.md"
      ],
      "metadata": {
        "id": "PdfQUis789Yt"
      }
    },
    {
      "cell_type": "code",
      "source": [
        "C: int = 299792458\n",
        "\n",
        "def main():\n",
        "  mass_in_kg: float = float(input(\"Enter kilos of mass: \"))\n",
        "\n",
        "  energy_in_joules: float = mass_in_kg * (C ** 2)\n",
        "\n",
        "  print(\"e = m * c^2...\")\n",
        "  print(\"m = \" + str(mass_in_kg) + \" kg\")\n",
        "  print(\"C = \" + str(C) + \"m/s\")\n",
        "\n",
        "  print(str(energy_in_joules) + \"joules of energy\")\n",
        "\n",
        "if __name__ == \"__main__\":\n",
        "  main()"
      ],
      "metadata": {
        "id": "AXo0AEpB9DHc"
      },
      "execution_count": null,
      "outputs": []
    },
    {
      "cell_type": "markdown",
      "source": [
        "03_feet_to_inches.md"
      ],
      "metadata": {
        "id": "aeARCGwd-j94"
      }
    },
    {
      "cell_type": "code",
      "source": [
        "INCHES_IN_FOOT: int = 12\n",
        "\n",
        "def main():\n",
        "  feet: float = float(input(\"Enter number of feet: \"))\n",
        "  inches: float = feet * INCHES_IN_FOOT\n",
        "  print(\"That is\", inches, \"inches\")\n",
        "\n",
        "if __name__ == \"__main__\":\n",
        "  main()"
      ],
      "metadata": {
        "id": "T9wD_Vo1-lXE"
      },
      "execution_count": null,
      "outputs": []
    },
    {
      "cell_type": "markdown",
      "source": [
        "04_pythagorean_theorem.md"
      ],
      "metadata": {
        "id": "Va2KnebkEXV4"
      }
    },
    {
      "cell_type": "code",
      "source": [
        "import math\n",
        "\n",
        "def main():\n",
        "  ab: float = float(input(\"Enter the length of AB: \"))\n",
        "  ac: float = float(input(\"Enter the length of AC: \"))\n",
        "\n",
        "  bc: float = math.sqrt(ab**2 + ac**2)\n",
        "  print(\"The length of BC (the hypotenuse) is:\" + str(bs))\n",
        "\n",
        "if __name__ == \"__main__\":\n",
        "  main()"
      ],
      "metadata": {
        "id": "O4KH-NPvEYcI"
      },
      "execution_count": null,
      "outputs": []
    },
    {
      "cell_type": "markdown",
      "source": [
        "05_remainder_division.md"
      ],
      "metadata": {
        "id": "RwgSivY_Ff3R"
      }
    },
    {
      "cell_type": "code",
      "source": [
        "def main():\n",
        "\n",
        "  divided: int= int(input(\"Please enter an integer to be divided :\"))\n",
        "  divisor: int = int(input(\"Please enter and integer to divide by: \"))\n",
        "\n",
        "  quotient: int = divided // divisor\n",
        "  remainder: int = divided % divisor\n",
        "\n",
        "  print(\"The result of this division is \" + str(quotient) + \"with a remainder of \" + str(remainder))\n",
        "\n",
        "if __name__ == \"__main__\":\n",
        "  main()"
      ],
      "metadata": {
        "id": "Fnqm8n8JFjnG"
      },
      "execution_count": null,
      "outputs": []
    },
    {
      "cell_type": "markdown",
      "source": [
        "06_rolldice.md"
      ],
      "metadata": {
        "id": "B2VIMkr4HIpi"
      }
    },
    {
      "cell_type": "code",
      "source": [
        "import random\n",
        "\n",
        "NUM_SIDES: int = 6\n",
        "\n",
        "def main():\n",
        "\n",
        "  die1: int = random.randint(1, NUM_SIDES)\n",
        "  die2: int = random.randint(1, NUM_SIDES)\n",
        "\n",
        "  total: int = die1 + die2\n",
        "\n",
        "  print(\"Dice have\", NUM_SIDES, \"sides each.\")\n",
        "  print(\"First die:\", die1)\n",
        "  print(\"Total of two dice:\", total)\n",
        "\n",
        "if __name__ == \"__main__\":\n",
        "  main()"
      ],
      "metadata": {
        "id": "zMh4xH57HJ0c"
      },
      "execution_count": null,
      "outputs": []
    },
    {
      "cell_type": "markdown",
      "source": [
        "07_seconds_in_year.md"
      ],
      "metadata": {
        "id": "PVxYqQ3oIMfv"
      }
    },
    {
      "cell_type": "code",
      "source": [
        "DAYS_PER_YEAR: int = 365\n",
        "HOURS_PER_DAY: int = 24\n",
        "MIN_PER_HOUR: int = 60\n",
        "SEC_PER_MIN: int = 60\n",
        "\n",
        "def main():\n",
        "\n",
        "  print(\"There are\" + str(DAYS_PER_YEAR * HOURS_PER_DAY * MIN_PER_HOUR * SEC_PER_MIN) + \"seconds in a year\")\n",
        "if __name__ == \"__main__\":\n",
        "  main()"
      ],
      "metadata": {
        "id": "ArVvezPMINee"
      },
      "execution_count": null,
      "outputs": []
    },
    {
      "cell_type": "markdown",
      "source": [
        "# 08_tiny_mad_lib.md"
      ],
      "metadata": {
        "id": "qztkSBzlJ7Vw"
      }
    },
    {
      "cell_type": "code",
      "source": [
        "SENTENCE_START: str  = \"Panaversity is fun Ileanrned to program and used python to make my \"\n",
        "def main():\n",
        "\n",
        "  adjective: str = input(\"Please type an adjective and press enter.\")\n",
        "  noun: str = input(\"Please type a noun and press enter\")\n",
        "  verb: str = input(\"Please type verb and press enter\")\n",
        "\n",
        "  print(SENTENCE_START + adjective + \" \" + noun + \" \" verb + \"!\")\n",
        "\n",
        "if __name__ == \"__main__\":\n",
        "  main()"
      ],
      "metadata": {
        "id": "q_sBcLO2J8en"
      },
      "execution_count": null,
      "outputs": []
    }
  ]
}