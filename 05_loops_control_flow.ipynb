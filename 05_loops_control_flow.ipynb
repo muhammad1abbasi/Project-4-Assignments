{
  "nbformat": 4,
  "nbformat_minor": 0,
  "metadata": {
    "colab": {
      "provenance": [],
      "authorship_tag": "ABX9TyMSoTl54Kz6k3t2bO2bp3lP",
      "include_colab_link": true
    },
    "kernelspec": {
      "name": "python3",
      "display_name": "Python 3"
    },
    "language_info": {
      "name": "python"
    }
  },
  "cells": [
    {
      "cell_type": "markdown",
      "metadata": {
        "id": "view-in-github",
        "colab_type": "text"
      },
      "source": [
        "<a href=\"https://colab.research.google.com/github/muhammad1abbasi/Project-4-Assignments/blob/main/05_loops_control_flow.ipynb\" target=\"_parent\"><img src=\"https://colab.research.google.com/assets/colab-badge.svg\" alt=\"Open In Colab\"/></a>"
      ]
    },
    {
      "cell_type": "markdown",
      "source": [
        "00_guess_my_number.md"
      ],
      "metadata": {
        "id": "FoEhTeZCwOL5"
      }
    },
    {
      "cell_type": "code",
      "execution_count": null,
      "metadata": {
        "colab": {
          "base_uri": "https://localhost:8080/"
        },
        "id": "F87REThzwFeB",
        "outputId": "7b23cb50-d830-49d0-8494-415ed3209cc7"
      },
      "outputs": [
        {
          "output_type": "stream",
          "name": "stdout",
          "text": [
            "I am thinking of a number between 1 and 99...\n",
            "Enter a guess:5\n",
            "Your guess is too low\n",
            "\n",
            "Enter a new guess: 090\n",
            "Your guess is too high\n",
            "\n"
          ]
        }
      ],
      "source": [
        "import random\n",
        "\n",
        "def main():\n",
        "  secret_number = random.randint(1, 99)\n",
        "  print(\"I am thinking of a number between 1 and 99...\")\n",
        "\n",
        "  guess = int(input(\"Enter a guess:\"))\n",
        "\n",
        "  while guess != secret_number:\n",
        "    if guess < secret_number:\n",
        "      print(\"Your guess is too low\")\n",
        "    else:\n",
        "      print(\"Your guess is too high\")\n",
        "\n",
        "    print()\n",
        "    guess = int(input(\"Enter a new guess: \"))\n",
        "\n",
        "  print(\"Congrats The was: \" + str(secret_number))\n",
        "import random\n",
        "\n",
        "def main():\n",
        "  secret_number = random.randint(1, 99)\n",
        "  print(\"I am thinking of a number between 1 and 99...\")\n",
        "\n",
        "  guess = int(input(\"Enter a guess:\"))\n",
        "\n",
        "  while guess != secret_number:\n",
        "    if guess < secret_number:\n",
        "      print(\"Your guess is too low\")\n",
        "    else:\n",
        "      print(\"Your guess is too high\")\n",
        "\n",
        "    print()\n",
        "    guess = int(input(\"Enter a new guess: \"))\n",
        "\n",
        "  print(\"Congrats The was: \" + str(secret_number))\n",
        "\n",
        "if __name__ == \"__main__\":\n",
        "  main()"
      ]
    },
    {
      "cell_type": "markdown",
      "source": [
        "01_fibonacci.md"
      ],
      "metadata": {
        "id": "InR5qyhjxvEg"
      }
    },
    {
      "cell_type": "code",
      "source": [
        "MAX_TERM_VALUE : int = 10000\n",
        "\n",
        "def main():\n",
        "  curr_term = 0\n",
        "  next_term = 1\n",
        "  while curr_term <= MAX_TERM_VALUE:\n",
        "    print(curr_term)\n",
        "    term_after_next = curr_term + next_term\n",
        "    curr_term = next_term\n",
        "    next_term = term_after_next\n",
        "\n",
        "if __name__ == \"__main__\":\n",
        "  main()"
      ],
      "metadata": {
        "id": "zLVWuGRVxwP9"
      },
      "execution_count": null,
      "outputs": []
    },
    {
      "cell_type": "markdown",
      "source": [
        "02_print_events.md"
      ],
      "metadata": {
        "id": "DQ-3Ht5izBwF"
      }
    },
    {
      "cell_type": "code",
      "source": [
        "def main():\n",
        "\n",
        "  for i in range(20):\n",
        "    print(i * 2)\n",
        "\n",
        "if __name__ == \"__main__\":\n",
        "  main()"
      ],
      "metadata": {
        "id": "vQFcWF8dzC87"
      },
      "execution_count": null,
      "outputs": []
    },
    {
      "cell_type": "markdown",
      "source": [
        "03_wholesome_machine.md"
      ],
      "metadata": {
        "id": "99rkV1upzUHp"
      }
    },
    {
      "cell_type": "code",
      "source": [
        "AFFIRMATION : str = \"I am capable of doing anything i put my mind to.\"\n",
        "\n",
        "def main():\n",
        "  print(\"Please type the following affirmation: \" + AFFIRMATION)\n",
        "\n",
        "  user_feedback = input()\n",
        "  while user_feedback != AFFIRMATION:\n",
        "\n",
        "    print(\"Please type the following affirmation \" + AFFIRMATION)\n",
        "    user_feedback = input()\n",
        "  print(\"Thats's right! :)\")\n",
        "\n",
        "if __name__ == \"__main__\":\n",
        "  main()"
      ],
      "metadata": {
        "id": "TB-yZf5nzVAI"
      },
      "execution_count": null,
      "outputs": []
    },
    {
      "cell_type": "markdown",
      "source": [
        "04_liftoff.md"
      ],
      "metadata": {
        "id": "7zmmfr9W1Kus"
      }
    },
    {
      "cell_type": "code",
      "source": [
        "import time\n",
        "\n",
        "def countdown_timer(seconds):\n",
        "    \"\"\"\n",
        "    A simple countdown timer that counts down from a given number of seconds.\n",
        "    \"\"\"\n",
        "    for i in range(seconds, 0, -1):\n",
        "        print(f\"Liftoff in {i} seconds...\")\n",
        "        time.sleep(1)\n",
        "    print(\"Liftoff! The rocket has launched!\")\n",
        "\n",
        "def main():\n",
        "    \"\"\"\n",
        "    Main function to get user input and start the countdown.\n",
        "    \"\"\"\n",
        "    while True:\n",
        "        try:\n",
        "            seconds = int(input(\"Enter countdown time in seconds: \"))\n",
        "            if seconds <= 0:\n",
        "                print(\"Please enter a positive number.\")\n",
        "                continue\n",
        "            break\n",
        "        except ValueError:\n",
        "            print(\"Invalid input! Please enter a valid number.\")\n",
        "\n",
        "    countdown_timer(seconds)\n",
        "\n",
        "if __name__ == \"__main__\":\n",
        "    main()\n"
      ],
      "metadata": {
        "id": "I6weo_cb1MIE"
      },
      "execution_count": null,
      "outputs": []
    },
    {
      "cell_type": "markdown",
      "source": [
        "05_double_it.md"
      ],
      "metadata": {
        "id": "IgXlZzJh2QWo"
      }
    },
    {
      "cell_type": "code",
      "source": [
        "def double_it():\n",
        "    \"\"\"\n",
        "    Asks the user for a number, doubles it, and prints the result.\n",
        "    \"\"\"\n",
        "    while True:\n",
        "        try:\n",
        "            num = int(input(\"Enter a number: \"))\n",
        "            print(f\"The double of {num} is {num * 2}.\")\n",
        "            break  # Exit the loop after a valid input\n",
        "        except ValueError:\n",
        "            print(\"Invalid input! Please enter a valid number.\")\n",
        "\n",
        "# Run the function\n",
        "if __name__ == \"__main__\":\n",
        "    double_it()\n"
      ],
      "metadata": {
        "id": "3qHG68722Rnz"
      },
      "execution_count": null,
      "outputs": []
    }
  ]
}