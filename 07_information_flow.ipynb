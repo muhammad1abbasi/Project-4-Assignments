{
  "nbformat": 4,
  "nbformat_minor": 0,
  "metadata": {
    "colab": {
      "provenance": [],
      "authorship_tag": "ABX9TyP4/XvJ107ydLKe0cu+18Gp",
      "include_colab_link": true
    },
    "kernelspec": {
      "name": "python3",
      "display_name": "Python 3"
    },
    "language_info": {
      "name": "python"
    }
  },
  "cells": [
    {
      "cell_type": "markdown",
      "metadata": {
        "id": "view-in-github",
        "colab_type": "text"
      },
      "source": [
        "<a href=\"https://colab.research.google.com/github/muhammad1abbasi/Project-4-Assignments/blob/main/07_information_flow.ipynb\" target=\"_parent\"><img src=\"https://colab.research.google.com/assets/colab-badge.svg\" alt=\"Open In Colab\"/></a>"
      ]
    },
    {
      "cell_type": "markdown",
      "source": [
        "00_choosing_returns.md"
      ],
      "metadata": {
        "id": "LJJAmvImQurO"
      }
    },
    {
      "cell_type": "code",
      "execution_count": 3,
      "metadata": {
        "colab": {
          "base_uri": "https://localhost:8080/"
        },
        "id": "tITPzCbgQPbA",
        "outputId": "3ff5235e-b01a-47e6-e02b-3739a8054f98"
      },
      "outputs": [
        {
          "output_type": "stream",
          "name": "stdout",
          "text": [
            "How old is thsi person?: 4\n",
            "False\n"
          ]
        }
      ],
      "source": [
        "ADULT_AGE : int = 18\n",
        "\n",
        "def is_adult(age: int):\n",
        "   if age >= ADULT_AGE:\n",
        "    return True\n",
        "\n",
        "   return False\n",
        "\n",
        "def main():\n",
        "  age : str = int(input(\"How old is thsi person?: \"))\n",
        "  print(is_adult(age))\n",
        "\n",
        "\n",
        "if __name__ == \"__main__\":\n",
        "  main()"
      ]
    },
    {
      "cell_type": "markdown",
      "source": [
        "01_greetings.md"
      ],
      "metadata": {
        "id": "D7R8BRDDRydq"
      }
    },
    {
      "cell_type": "code",
      "source": [
        "def main():\n",
        "  name : str = input(\"What is your name? \")\n",
        "  print(greet(name))\n",
        "\n",
        "\n",
        "def greet(name):\n",
        "  return \"Greetings :\" + name + \"!\"\n",
        "\n",
        "if __name__ == \"__main__\":\n",
        "  main()"
      ],
      "metadata": {
        "colab": {
          "base_uri": "https://localhost:8080/"
        },
        "id": "Avs9EupWRzXZ",
        "outputId": "0da69f7e-df7d-48cf-f962-e0f7fb3d5554"
      },
      "execution_count": 8,
      "outputs": [
        {
          "output_type": "stream",
          "name": "stdout",
          "text": [
            "What is your name? Batman\n",
            "Greetings :Batman!\n"
          ]
        }
      ]
    },
    {
      "cell_type": "markdown",
      "source": [
        "02_in_range.md"
      ],
      "metadata": {
        "id": "b6H0e2LzSm8g"
      }
    },
    {
      "cell_type": "code",
      "source": [
        "def in_range(n, low, high):\n",
        "    \"\"\"\n",
        "    Returns True if n is between low and high, inclusive.\n",
        "    high is guaranteed to be greater than low.\n",
        "    \"\"\"\n",
        "    return low <= n <= high\n",
        "\n",
        "def main():\n",
        "    try:\n",
        "        n = int(input(\"Enter a number: \"))\n",
        "        low = int(input(\"Enter the lower bound of the range: \"))\n",
        "        high = int(input(\"Enter the upper bound of the range: \"))\n",
        "\n",
        "        if in_range(n, low, high):\n",
        "            print(f\"{n} is within the range of {low} to {high}.\")\n",
        "        else:\n",
        "            print(f\"{n} is out of the range {low} to {high}.\")\n",
        "    except ValueError:\n",
        "        print(\"Invalid input! Please enter integers only.\")\n",
        "\n",
        "if __name__ == \"__main__\":\n",
        "    main()"
      ],
      "metadata": {
        "colab": {
          "base_uri": "https://localhost:8080/"
        },
        "id": "JmLR2zXXSnzC",
        "outputId": "9b3dd081-3a50-47f4-88c3-6e356e47061b"
      },
      "execution_count": 12,
      "outputs": [
        {
          "output_type": "stream",
          "name": "stdout",
          "text": [
            "Enter a number: 8\n",
            "Enter the lower bound of the range: 4\n",
            "Enter the upper bound of the range: 9\n",
            "8 is within the range of 4 to 9.\n"
          ]
        }
      ]
    },
    {
      "cell_type": "markdown",
      "source": [
        "03_in_stock.md"
      ],
      "metadata": {
        "id": "nwSukFT7YVv0"
      }
    },
    {
      "cell_type": "code",
      "source": [
        "from inspect import isfunction\n",
        "def main():\n",
        "  fruit: str = input(\"Enter a fruit: \")\n",
        "  stock = num_in_stock(fruit)\n",
        "  if stock == 0:\n",
        "    print(\"This fruit is not in stock:\")\n",
        "  else:\n",
        "    print (\"This fruit is in stock! Here is how many :\")\n",
        "    print(stock)\n",
        "\n",
        "\n",
        "def num_in_stock(fruit):\n",
        "  \"\"\"This function returns the number of fruit sophia has in stock\"\"\"\n",
        "\n",
        "  if fruit == 'apple':\n",
        "    return 2\n",
        "  if fruit == 'durian':\n",
        "    return(4)\n",
        "  if fruit == 'pear':\n",
        "    return 1000\n",
        "  else:\n",
        "    return 0\n",
        "\n",
        "   else:oag        isfunctionsssssssssssssssssssssurer _______________________________________________________________________________________________________________________________________________________________________________________________________________________________________________________________________________________________________________________________________________________________________________________________________________________________________________________________________________________________________________________________________________________________________________________________________________________________________________________________________________________________________________________________________________________________________________________________________________________________________________________________________________________________________________________________________________________________________________________________________________________________________________________________________________________________________________________________________________________________________________________________________________________________________________________________________________________________________________________________________________________________________________________________________________________________________________________________________________________________________________________________________________________________________________________-----------------------------------------------------------------------------------------------------------------------------------------------------------------------------------------------------------------------------------------------------------------------------------ssssssssssssssssssssssssssssssssssssssssssssssssssssssssssssssssssssssssssssssssssssssssssssssssssssssssssssssssssssssssssssssssssssssssssssssssssssssssssssssssssssssssssssssssssssssssssssssssssssssssssssssssssssssssssssssssssssssssssssssssssssssssssssssssssssssssssssssssssssssssssssssssssssss\n",
        "if __name__ == \"__main__\":\n",
        "  main()"
      ],
      "metadata": {
        "colab": {
          "base_uri": "https://localhost:8080/"
        },
        "id": "jFASQl-UYXdH",
        "outputId": "2f0c5e76-51da-4f0f-e5c0-48c8ef81692f"
      },
      "execution_count": 14,
      "outputs": [
        {
          "output_type": "stream",
          "name": "stdout",
          "text": [
            "Enter a fruit: apple\n",
            "This fruit is in stock! Here is how many :\n",
            "2\n"
          ]
        }
      ]
    },
    {
      "cell_type": "markdown",
      "source": [
        "04_multiple_returns.md"
      ],
      "metadata": {
        "id": "Bsbnlq4pectz"
      }
    },
    {
      "cell_type": "code",
      "source": [
        "def get_user_info():\n",
        "  first_name: str = input(\"What is your first name?\")\n",
        "  last_name: str = input (\"What is you last name \")\n",
        "  email_address : str = input(\"What  is your email address?\")\n",
        "\n",
        "  return first_name , last_name , email_address\n",
        "\n",
        "def main():\n",
        "  user_data = get_user_info()\n",
        "  print(\"Recieve the following use data:\" , user_data)\n",
        "\n",
        "\n",
        "if __name__ == \"__main__\":\n",
        "  main()\n"
      ],
      "metadata": {
        "colab": {
          "base_uri": "https://localhost:8080/"
        },
        "id": "gW4UNfcweeq3",
        "outputId": "f09e0d10-51a5-4a52-9e28-6b83975f5168"
      },
      "execution_count": 16,
      "outputs": [
        {
          "output_type": "stream",
          "name": "stdout",
          "text": [
            "What is your first name?muhammad\n",
            "What is you last name no nae\n",
            "What  is your email address?sdjfsjdj@hamail.com\n",
            "Recieve the following use data: ('muhammad', 'no nae', 'sdjfsjdj@hamail.com')\n"
          ]
        }
      ]
    },
    {
      "cell_type": "markdown",
      "source": [
        "05_subtract_7.md"
      ],
      "metadata": {
        "id": "PD02r2pprrwA"
      }
    },
    {
      "cell_type": "code",
      "source": [
        "def subtract_seven(number):\n",
        "    \"\"\"Subtracts 7 from the given number and returns the result.\"\"\"\n",
        "    return number - 7\n",
        "\n",
        "def main():\n",
        "    try:\n",
        "        number = int(input(\"Enter a number: \"))\n",
        "        result = subtract_seven(number)\n",
        "        print(f\"{number} minus 7 is {result}.\")\n",
        "    except ValueError:\n",
        "        print(\"Invalid input! Please enter an integer.\")\n",
        "\n",
        "if __name__ == \"__main__\":\n",
        "    main()"
      ],
      "metadata": {
        "colab": {
          "base_uri": "https://localhost:8080/"
        },
        "id": "VUjpEU7wrsz6",
        "outputId": "8fb6b5bf-b9fb-4f8c-9467-ab099333a02a"
      },
      "execution_count": 19,
      "outputs": [
        {
          "output_type": "stream",
          "name": "stdout",
          "text": [
            "Enter a number: 2\n",
            "2 minus 7 is -5.\n"
          ]
        }
      ]
    }
  ]
}