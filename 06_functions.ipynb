{
  "nbformat": 4,
  "nbformat_minor": 0,
  "metadata": {
    "colab": {
      "provenance": [],
      "authorship_tag": "ABX9TyNV3xyl7ik8FsXuKhhGiV/f",
      "include_colab_link": true
    },
    "kernelspec": {
      "name": "python3",
      "display_name": "Python 3"
    },
    "language_info": {
      "name": "python"
    }
  },
  "cells": [
    {
      "cell_type": "markdown",
      "metadata": {
        "id": "view-in-github",
        "colab_type": "text"
      },
      "source": [
        "<a href=\"https://colab.research.google.com/github/muhammad1abbasi/Project-4-Assignments/blob/main/06_functions.ipynb\" target=\"_parent\"><img src=\"https://colab.research.google.com/assets/colab-badge.svg\" alt=\"Open In Colab\"/></a>"
      ]
    },
    {
      "cell_type": "markdown",
      "source": [
        "00_averages.md"
      ],
      "metadata": {
        "id": "MDLyEA7rN1Z5"
      }
    },
    {
      "cell_type": "code",
      "execution_count": 2,
      "metadata": {
        "colab": {
          "base_uri": "https://localhost:8080/"
        },
        "id": "He02s6ZdNb36",
        "outputId": "a57eb408-7354-4898-b147-f3a2640f1af5"
      },
      "outputs": [
        {
          "output_type": "stream",
          "name": "stdout",
          "text": [
            "avg_1 5.0\n",
            "avg_2 9.0\n",
            "final 7.0\n"
          ]
        }
      ],
      "source": [
        "def average(a: float, b: float):\n",
        "  \"\"\"\n",
        "  Returns the number which is half way between a and b\n",
        "  \"\"\"\n",
        "\n",
        "  sum = a + b\n",
        "  return sum / 2\n",
        "\n",
        "def main():\n",
        "  avg_1 = average(0, 10)\n",
        "  avg_2 = average(8 , 10)\n",
        "\n",
        "  final = average(avg_1 , avg_2)\n",
        "  print(\"avg_1\", avg_1)\n",
        "  print(\"avg_2\", avg_2)\n",
        "  print(\"final\", final)\n",
        "\n",
        "if __name__ == \"__main__\":\n",
        "  main()"
      ]
    },
    {
      "cell_type": "markdown",
      "source": [
        "01_chaotic_counting.md"
      ],
      "metadata": {
        "id": "nEgQdyZjP00e"
      }
    },
    {
      "cell_type": "code",
      "source": [
        "import random\n",
        "\n",
        "DONE_LIKEHOOD = 0.2\n",
        "def chaotic_counting():\n",
        "  for i in range(10):\n",
        "    curr_name = i + 1\n",
        "    if done():\n",
        "      return\n",
        "      print(curr_name)\n",
        "\n",
        "def done():\n",
        "  \"\"\"Returns True with a probability of DONE_LIKELHOOD \"\"\"\n",
        "  if random.random() < DONE_LIKEHOOD:\n",
        "    return True\n",
        "  return False\n",
        "def main():\n",
        "  print(\"Iam goig to count until 10 or until i feel stopp which ever come firsts\")\n",
        "  chaotic_counting()\n",
        "  print(\"Iam done\")\n",
        "\n",
        "if __name__ == \"__main__\":\n",
        "  main()"
      ],
      "metadata": {
        "colab": {
          "base_uri": "https://localhost:8080/"
        },
        "id": "WzJCg0ovP5BD",
        "outputId": "a1421032-a64b-4b6e-c53c-02564e72ea1c"
      },
      "execution_count": 6,
      "outputs": [
        {
          "output_type": "stream",
          "name": "stdout",
          "text": [
            "Iam goig to count until 10 or until i feel stopp which ever come firsts\n",
            "Iam done\n"
          ]
        }
      ]
    },
    {
      "cell_type": "markdown",
      "source": [
        "02_count_even.md"
      ],
      "metadata": {
        "id": "UuYpHD2PSBe3"
      }
    },
    {
      "cell_type": "code",
      "source": [
        "def count_even(lst):\n",
        "    \"\"\"\n",
        "    Returns the number of even numbers in the list.\n",
        "\n",
        "    Examples:\n",
        "    >>> count_even([1, 2, 3, 4])\n",
        "    2\n",
        "    >>> count_even([1, 3, 5, 7])\n",
        "    0\n",
        "    \"\"\"\n",
        "    return sum(1 for num in lst if num % 2 == 0)\n",
        "\n",
        "def get_list_of_ints():\n",
        "    \"\"\"\n",
        "    Reads integers from user input until an empty line is entered.\n",
        "    Returns the list of entered integers.\n",
        "    \"\"\"\n",
        "    lst = []\n",
        "    while True:\n",
        "        user_input = input(\"Enter an integer (or press Enter to stop): \").strip()\n",
        "        if not user_input:\n",
        "            break\n",
        "        if user_input.isdigit() or (user_input[0] == '-' and user_input[1:].isdigit()):\n",
        "            lst.append(int(user_input))\n",
        "        else:\n",
        "            print(\"Invalid input! Please enter an integer.\")\n",
        "\n",
        "    return lst\n",
        "\n",
        "def main():\n",
        "    lst = get_list_of_ints()\n",
        "    print(\"Even numbers count:\", count_even(lst))\n",
        "\n",
        "if __name__ == '__main__':\n",
        "    main()\n"
      ],
      "metadata": {
        "colab": {
          "base_uri": "https://localhost:8080/"
        },
        "id": "SN5bWxRvSCms",
        "outputId": "e80369e5-d634-4e36-feec-b4955c241846"
      },
      "execution_count": 7,
      "outputs": [
        {
          "output_type": "stream",
          "name": "stdout",
          "text": [
            "Enter an integer (or press Enter to stop): 32\n",
            "Enter an integer (or press Enter to stop): 33\n",
            "Enter an integer (or press Enter to stop): \n",
            "Even numbers count: 1\n"
          ]
        }
      ]
    },
    {
      "cell_type": "markdown",
      "source": [
        "04_double.md"
      ],
      "metadata": {
        "id": "gDc-nB-xS0aO"
      }
    },
    {
      "cell_type": "code",
      "source": [
        "def double(num: int):\n",
        "  return num * 2\n",
        "def main():\n",
        "  num = int(input(\"Enter a number: \"))\n",
        "  num_times_2 = double(num)\n",
        "  print(\"Double that is\", num_times_2)\n",
        "\n",
        "if __name__ == \"__main__\":\n",
        "  main()"
      ],
      "metadata": {
        "colab": {
          "base_uri": "https://localhost:8080/"
        },
        "id": "udQTtBwwS1jj",
        "outputId": "a6985aba-5301-4fcf-998c-a8e74325af69"
      },
      "execution_count": 8,
      "outputs": [
        {
          "output_type": "stream",
          "name": "stdout",
          "text": [
            "Enter a number: 3\n",
            "Double that is 6\n"
          ]
        }
      ]
    },
    {
      "cell_type": "markdown",
      "source": [
        "05_get_name.md"
      ],
      "metadata": {
        "id": "mitsiP9QTkwe"
      }
    },
    {
      "cell_type": "code",
      "source": [
        "def get_name():\n",
        "  return \"Sophia\"\n",
        "def main():\n",
        "  name = get_name()\n",
        "  print(\"Howdy\", name, \"😉\")\n",
        "if __name__ == \"__main__\":\n",
        "  main()"
      ],
      "metadata": {
        "colab": {
          "base_uri": "https://localhost:8080/"
        },
        "id": "KQlXCXa3TlhL",
        "outputId": "e8c7d614-a8c4-4946-afe2-4ba4b5ad6efd"
      },
      "execution_count": 9,
      "outputs": [
        {
          "output_type": "stream",
          "name": "stdout",
          "text": [
            "Howdy Sophia 😉\n"
          ]
        }
      ]
    },
    {
      "cell_type": "markdown",
      "source": [
        "06_is_odd.md"
      ],
      "metadata": {
        "id": "NDL7_UwdVPqA"
      }
    },
    {
      "cell_type": "code",
      "source": [
        "def main():\n",
        "  for i in range(10):\n",
        "    if is_odd(i):\n",
        "      print('odd')\n",
        "    else:\n",
        "      print('even')\n",
        "def is_odd(value: int):\n",
        "  \"\"\"Check to see if a value is odd if it is so return true\"\"\"\n",
        "\n",
        "  remainder = value % 2\n",
        "  return remainder == 1\n",
        "\n",
        "if __name__ == '__main__':\n",
        "  main()"
      ],
      "metadata": {
        "colab": {
          "base_uri": "https://localhost:8080/"
        },
        "id": "HTx0VHqQVQsL",
        "outputId": "8e5b2bb4-52e3-4ebf-c79b-f72139d3730a"
      },
      "execution_count": 10,
      "outputs": [
        {
          "output_type": "stream",
          "name": "stdout",
          "text": [
            "even\n",
            "odd\n",
            "even\n",
            "odd\n",
            "even\n",
            "odd\n",
            "even\n",
            "odd\n",
            "even\n",
            "odd\n"
          ]
        }
      ]
    },
    {
      "cell_type": "markdown",
      "source": [
        "07_print_divisor.md"
      ],
      "metadata": {
        "id": "fSGLAnPNWPOr"
      }
    },
    {
      "cell_type": "code",
      "source": [
        "def print_divisors(num: int):\n",
        "  print(\"Here are the divisors of \", num)\n",
        "  for i in range(num):\n",
        "    curr_divisor = i + 1\n",
        "    if num % curr_divisor == 0:\n",
        "      print(curr_divisor)\n",
        "def main():\n",
        "  num = int(input(\"Enter a number: \"))\n",
        "  print_divisors(num)\n",
        "\n",
        "if __name__ == \"__main__\":\n",
        "  main()"
      ],
      "metadata": {
        "colab": {
          "base_uri": "https://localhost:8080/"
        },
        "id": "MhgzKMMxWQC_",
        "outputId": "78f4e6dd-f905-4596-f56d-62e0afdc175b"
      },
      "execution_count": 13,
      "outputs": [
        {
          "output_type": "stream",
          "name": "stdout",
          "text": [
            "Enter a number: 2\n",
            "Here are the divisors of  2\n",
            "1\n",
            "2\n"
          ]
        }
      ]
    },
    {
      "cell_type": "markdown",
      "source": [
        "08_print_multiple.md"
      ],
      "metadata": {
        "id": "StsE-jQTXDjX"
      }
    },
    {
      "cell_type": "code",
      "source": [
        "def print_multiple(sentence: str, times: int):\n",
        "    \"\"\"\n",
        "    Prints the given sentence multiple times.\n",
        "\n",
        "    Parameters:\n",
        "    sentence (str): The sentence to print.\n",
        "    times (int): The number of times to print the sentence.\n",
        "    \"\"\"\n",
        "    for _ in range(times):\n",
        "        print(sentence)\n",
        "\n",
        "def main():\n",
        "    sentence = input(\"Enter a sentence: \")\n",
        "    times = int(input(\"How many times to print it? \"))\n",
        "    print_multiple(sentence, times)\n",
        "\n",
        "if __name__ == \"__main__\":\n",
        "    main()\n"
      ],
      "metadata": {
        "colab": {
          "base_uri": "https://localhost:8080/"
        },
        "id": "wLqMo-JUg5HL",
        "outputId": "44a12147-a0ff-4471-e433-85d26effda2e"
      },
      "execution_count": 14,
      "outputs": [
        {
          "output_type": "stream",
          "name": "stdout",
          "text": [
            "Enter a sentence: ddd\n",
            "How many times to print it? 3\n",
            "ddd\n",
            "ddd\n",
            "ddd\n"
          ]
        }
      ]
    },
    {
      "cell_type": "markdown",
      "source": [
        "09_sentence_generator.md"
      ],
      "metadata": {
        "id": "2hYjvRGZhA6k"
      }
    },
    {
      "cell_type": "code",
      "source": [
        "def make_sentence(word, part_of_speech):\n",
        "    if part_of_speech == 0:\n",
        "        print(\"I am excited to add this \" + word + \" to my vast collection of them.\")\n",
        "    elif part_of_speech == 1:\n",
        "        print(\"It's so nice outside today, it makes me want to \" + word + \"!\")\n",
        "    elif part_of_speech == 2:\n",
        "        print(\"Looking out my window, the sky is big and \" + word + \"!\")\n",
        "    else:\n",
        "        print(\"Part of speech must be 0, 1, or 2. Can't make a sentence.\")\n",
        "\n",
        "def main():\n",
        "    word: str = input(\"Please type a noun, verb, or adjective: \")\n",
        "    print(\"Is this a noun, verb, or adjective?\")\n",
        "\n",
        "    try:\n",
        "        part_of_speech = int(input(\"Type 0 for noun, 1 for verb, or 2 for adjective: \"))\n",
        "        make_sentence(word, part_of_speech)\n",
        "    except ValueError:\n",
        "        print(\"Invalid input! Please enter 0, 1, or 2.\")\n",
        "\n",
        "if __name__ == \"__main__\":\n",
        "    main()\n"
      ],
      "metadata": {
        "colab": {
          "base_uri": "https://localhost:8080/"
        },
        "id": "Gav9In0KhONR",
        "outputId": "0555974a-c58a-4da8-9482-a2bee13d9094"
      },
      "execution_count": 19,
      "outputs": [
        {
          "output_type": "stream",
          "name": "stdout",
          "text": [
            "Please type a noun, verb, or adjective: 3\n",
            "Is this a noun, verb, or adjective?\n",
            "Type 0 for noun, 1 for verb, or 2 for adjective: 2\n",
            "Looking out my window, the sky is big and 3!\n"
          ]
        }
      ]
    },
    {
      "cell_type": "markdown",
      "source": [
        "10_print_ones_digit.md"
      ],
      "metadata": {
        "id": "Ba9eqkKukGDt"
      }
    },
    {
      "cell_type": "code",
      "source": [
        "def print_ones_digit(number):\n",
        "    \"\"\"\n",
        "    Prints the ones (last) digit of the given number.\n",
        "    \"\"\"\n",
        "    ones_digit = abs(number) % 10\n",
        "    print(\"The ones digit is:\", ones_digit)\n",
        "\n",
        "def main():\n",
        "    try:\n",
        "        number = int(input(\"Enter a number: \"))\n",
        "    except ValueError:\n",
        "        print(\"Invalid input! Please enter an integer.\")\n",
        "\n",
        "if __name__ == \"__main__\":\n",
        "    main()"
      ],
      "metadata": {
        "colab": {
          "base_uri": "https://localhost:8080/"
        },
        "id": "qi02tKLckHUF",
        "outputId": "61434682-3c1e-4204-e247-6dadbecb38c5"
      },
      "execution_count": 21,
      "outputs": [
        {
          "name": "stdout",
          "output_type": "stream",
          "text": [
            "Enter a number: 9\n"
          ]
        }
      ]
    }
  ]
}