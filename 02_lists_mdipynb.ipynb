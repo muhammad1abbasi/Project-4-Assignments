{
  "nbformat": 4,
  "nbformat_minor": 0,
  "metadata": {
    "colab": {
      "provenance": [],
      "authorship_tag": "ABX9TyN9MbMnjQK+LeYh67sINsOW",
      "include_colab_link": true
    },
    "kernelspec": {
      "name": "python3",
      "display_name": "Python 3"
    },
    "language_info": {
      "name": "python"
    }
  },
  "cells": [
    {
      "cell_type": "markdown",
      "metadata": {
        "id": "view-in-github",
        "colab_type": "text"
      },
      "source": [
        "<a href=\"https://colab.research.google.com/github/muhammad1abbasi/Project-4-Assignments/blob/main/02_lists_mdipynb.ipynb\" target=\"_parent\"><img src=\"https://colab.research.google.com/assets/colab-badge.svg\" alt=\"Open In Colab\"/></a>"
      ]
    },
    {
      "cell_type": "markdown",
      "source": [
        "01_add_many_number.md"
      ],
      "metadata": {
        "id": "fN6T2M0ePadN"
      }
    },
    {
      "cell_type": "code",
      "execution_count": 2,
      "metadata": {
        "colab": {
          "base_uri": "https://localhost:8080/"
        },
        "id": "2Z90z4K5Orb2",
        "outputId": "0c53c77b-1b50-4ba3-a9fa-a54a6969da0b"
      },
      "outputs": [
        {
          "output_type": "stream",
          "name": "stdout",
          "text": [
            "15\n"
          ]
        }
      ],
      "source": [
        "def add_many_numbers(numbers) -> int:\n",
        "    total_so_far: int = 0\n",
        "    for number in numbers:\n",
        "        total_so_far += number\n",
        "    return total_so_far\n",
        "\n",
        "def main():\n",
        "    numbers: list[int] = [1, 2, 3, 4, 5]\n",
        "    sum_of_numbers: int = add_many_numbers(numbers)\n",
        "    print(sum_of_numbers)\n",
        "\n",
        "if __name__ == \"__main__\":\n",
        "    main()\n"
      ]
    },
    {
      "cell_type": "markdown",
      "source": [
        "02_double_list.md"
      ],
      "metadata": {
        "id": "8rqYiuAYQ9kG"
      }
    },
    {
      "cell_type": "code",
      "source": [
        "def main():\n",
        "  numbers: list[int] = [1 , 2 , 3, 4]\n",
        "  for i in range(len(numbers)):\n",
        "    elem_at_index = numbers[i]\n",
        "    numbers[i] = elem_at_index * 2\n",
        "\n",
        "  print(numbers)\n",
        "\n",
        "if __name__ == \"__main__\":\n",
        "  main()"
      ],
      "metadata": {
        "colab": {
          "base_uri": "https://localhost:8080/"
        },
        "id": "FMh764kyQ_NM",
        "outputId": "3c7697b9-8b77-476b-bea1-345e2f24057a"
      },
      "execution_count": 3,
      "outputs": [
        {
          "output_type": "stream",
          "name": "stdout",
          "text": [
            "[2, 4, 6, 8]\n"
          ]
        }
      ]
    },
    {
      "cell_type": "markdown",
      "source": [
        "03_erase_canvas.md"
      ],
      "metadata": {
        "id": "jaAGUxPJSxUS"
      }
    },
    {
      "cell_type": "code",
      "source": [
        "# from graphics import Canvas\n",
        "import time\n",
        "\n",
        "CANVAS_WIDTH : int = 400\n",
        "CANVAS_HEIGHT: int = 400\n",
        "\n",
        "CELL_SIZE :  int = 40\n",
        "ERASER_SIZE : int = 20\n",
        "\n",
        "def erase_object(canvas, eraser):\n",
        "\n",
        "  mouse_x = canvas.get_mouse_x()\n",
        "  mouse_y = canvas.get_mouse_y()\n",
        "\n",
        "  left_x = mouse_x\n",
        "  top_y = mouse_y\n",
        "  right_x = left_x + ERASER_SIZE\n",
        "  bottom_y = top_y + ERASER_SIZE\n",
        "\n",
        "  overlapping_objects = canvas.find_overlapping(left_x, top_y, right_x, bottom_y)\n",
        "\n",
        "  for overlapping_object in overlapping_objects:\n",
        "    if overlapping_object != eraser:\n",
        "      canvas.set_color(overlapping_object, 'white')\n",
        "\n",
        "\n",
        "def main():\n",
        "  canvas = Canvas(CANVAS_WIDTH, CANVAS_HEIGHT)\n",
        "\n",
        "  num_rows = CANVAS_HEIGHT // CELL_SIZE\n",
        "  num_cols = CANVAS_WIDTH // CELL_SIZE\n",
        "\n",
        "\n",
        "  for row in range(num_rows):\n",
        "    for col in range(num_cols):\n",
        "      left_x = col * CELL_SIZE\n",
        "      top_y = row * CELL_SIZE\n",
        "      right_x = left_x + CELL_SIZE\n",
        "      bottom_y = top_y + CELL_SIZE\n",
        "\n",
        "      cell= canvas.create_rectangle(left_x, top_y, bottom_y, 'blue')\n",
        "\n",
        "    canvas.wait_for_click()\n",
        "\n",
        "    last_click_x, last_click_y = canvas.get_last_click()\n",
        "\n",
        "    eraser = canvas.create_rectangle(\n",
        "        last_click_x,\n",
        "        last_click_y,\n",
        "        last_click_x + ERASER_SIZE,\n",
        "        last_click_y + ERASER_SIZE,\n",
        "        'PINK'\n",
        "    )\n",
        "\n",
        "    while True:\n",
        "\n",
        "      mouse_x = canvas.get_mouse_x()\n",
        "      mouse_y = canvas.get_mouse_y()\n",
        "      canvas.moveto(eraser, mouse_x, mouse_y)\n",
        "\n",
        "      erase_object(canvas, eraser)\n",
        "\n",
        "      time.sleep(0.05)\n",
        "\n",
        "if __name__ == \"main\":\n",
        "    main()"
      ],
      "metadata": {
        "id": "9gMZFYTiSzLQ"
      },
      "execution_count": 5,
      "outputs": []
    },
    {
      "cell_type": "markdown",
      "source": [
        "04_flowing_with_data_structures.md"
      ],
      "metadata": {
        "id": "TqrYhNiMZjSx"
      }
    },
    {
      "cell_type": "code",
      "source": [
        "def add_three_copies(my_list, data):\n",
        "  for i in range (3):\n",
        "    my_list.append(data)\n",
        "\n",
        "def main():\n",
        "  message = input(\"Enter a message to copy: \")\n",
        "  my_list = []\n",
        "  print(\"List before:\", my_list )\n",
        "  add_three_copies(my_list,  message)\n",
        "\n",
        "if __name__ == \"__main__\":\n",
        "  main()"
      ],
      "metadata": {
        "colab": {
          "base_uri": "https://localhost:8080/"
        },
        "id": "SwdspxT6Zkwi",
        "outputId": "2e7a41d9-4893-4e5c-9b4c-534e7088bf42"
      },
      "execution_count": 6,
      "outputs": [
        {
          "output_type": "stream",
          "name": "stdout",
          "text": [
            "Enter a message to copy: hello\n",
            "List before: []\n"
          ]
        }
      ]
    },
    {
      "cell_type": "markdown",
      "source": [
        "05_get_first_element.md"
      ],
      "metadata": {
        "id": "Mto8I0LKavdP"
      }
    },
    {
      "cell_type": "code",
      "source": [
        "def get_first_element(lst):\n",
        "    \"\"\"\n",
        "    Prints the first element of a provided list.\n",
        "    \"\"\"\n",
        "    print(lst[0])\n",
        "\n",
        "def get_lst():\n",
        "    \"\"\"\n",
        "    Prompts the user to enter one element of the list at a time and returns the resulting list.\n",
        "    \"\"\"\n",
        "    lst = []\n",
        "    elem: str = input(\"Please enter an element of the list or press enter to stop: \")\n",
        "    while elem != \"\":\n",
        "        lst.append(elem)\n",
        "        elem = input(\"Please enter an element of the list or press enter to stop: \")\n",
        "    return lst\n",
        "\n",
        "def main():\n",
        "    lst = get_lst()  # Removed the incorrect colon\n",
        "    get_first_element(lst)\n",
        "\n",
        "if __name__ == \"__main__\":\n",
        "    main()\n"
      ],
      "metadata": {
        "colab": {
          "base_uri": "https://localhost:8080/"
        },
        "id": "N953ZAZHawTx",
        "outputId": "515c2aa5-af44-4a1a-84b2-f01972a8fb05"
      },
      "execution_count": 8,
      "outputs": [
        {
          "output_type": "stream",
          "name": "stdout",
          "text": [
            "Please enter an element of the list or press enter to stop: hello\n",
            "Please enter an element of the list or press enter to stop: \n",
            "hello\n"
          ]
        }
      ]
    },
    {
      "cell_type": "markdown",
      "source": [
        "06_get_last_element.md"
      ],
      "metadata": {
        "id": "WlYdp6aoegMN"
      }
    },
    {
      "cell_type": "code",
      "source": [
        "def get_last_element(lst):\n",
        "    \"\"\"\n",
        "    Prints the last element of a provided list.\n",
        "    \"\"\"\n",
        "    print(lst[-1])  # Access the last element using negative indexing\n",
        "\n",
        "def get_lst():\n",
        "    \"\"\"\n",
        "    Prompts the user to enter one element of the list at a time and returns the resulting list.\n",
        "    \"\"\"\n",
        "    lst = []\n",
        "    elem: str = input(\"Please enter an element of the list or press enter to stop: \")\n",
        "    while elem != \"\":\n",
        "        lst.append(elem)\n",
        "        elem = input(\"Please enter an element of the list or press enter to stop: \")\n",
        "    return lst\n",
        "\n",
        "def main():\n",
        "    lst = get_lst()\n",
        "    get_last_element(lst)\n",
        "\n",
        "if __name__ == \"__main__\":\n",
        "    main()\n"
      ],
      "metadata": {
        "colab": {
          "base_uri": "https://localhost:8080/"
        },
        "id": "8quSVuHaehA5",
        "outputId": "b7c1afcb-48ea-4349-d1aa-a06c02e4c347"
      },
      "execution_count": 9,
      "outputs": [
        {
          "output_type": "stream",
          "name": "stdout",
          "text": [
            "Please enter an element of the list or press enter to stop: hy\n",
            "Please enter an element of the list or press enter to stop: bu\n",
            "Please enter an element of the list or press enter to stop: \n",
            "bu\n"
          ]
        }
      ]
    },
    {
      "cell_type": "markdown",
      "source": [
        "07_get_list.md"
      ],
      "metadata": {
        "id": "dB1SGyMkeo4Q"
      }
    },
    {
      "cell_type": "code",
      "source": [
        "def main():\n",
        "  lst = []\n",
        "\n",
        "  val = input(\"Enter a value: \")\n",
        "  while val:\n",
        "    lst.append(val)\n",
        "    val = input(\"Enter a value: \")\n",
        "\n",
        "  print(\"Here's the list: \" , lst)\n",
        "\n",
        "if __name__ == \"__main__\":\n",
        "  main()"
      ],
      "metadata": {
        "colab": {
          "base_uri": "https://localhost:8080/"
        },
        "id": "leDEKCu0eqCt",
        "outputId": "f355d83e-d7b3-4ca9-f31e-c24540541e4d"
      },
      "execution_count": 10,
      "outputs": [
        {
          "output_type": "stream",
          "name": "stdout",
          "text": [
            "Enter a value: hello\n",
            "Enter a value: 3290\n",
            "Enter a value: \n",
            "Here's the list:  ['hello', '3290']\n"
          ]
        }
      ]
    },
    {
      "cell_type": "markdown",
      "source": [
        "08_shorten.md"
      ],
      "metadata": {
        "id": "UTeZN6L5gDR6"
      }
    },
    {
      "cell_type": "code",
      "source": [
        "MAX_LENGTH: int = 3\n",
        "\n",
        "def shorten(lst: list) -> None:\n",
        "    \"\"\"\n",
        "    Removes and prints elements from the list until its length is MAX_LENGTH.\n",
        "    \"\"\"\n",
        "    while len(lst) > MAX_LENGTH:\n",
        "        print(lst.pop())\n",
        "\n",
        "def get_lst() -> list:\n",
        "    \"\"\"\n",
        "    Prompts the user to enter elements one by one and returns the list.\n",
        "    \"\"\"\n",
        "    lst = []\n",
        "    while (elem := input(\"Enter an element (or press Enter to stop): \")) != \"\":\n",
        "        lst.append(elem)\n",
        "    return lst\n",
        "\n",
        "def main() -> None:\n",
        "    lst = get_lst()\n",
        "    shorten(lst)\n",
        "\n",
        "if __name__ == \"__main__\":\n",
        "    main()\n"
      ],
      "metadata": {
        "colab": {
          "base_uri": "https://localhost:8080/"
        },
        "id": "Nzwqwt9xgPsP",
        "outputId": "a0072756-08b7-4b0d-b8e3-4391e29ec2bc"
      },
      "execution_count": 12,
      "outputs": [
        {
          "name": "stdout",
          "output_type": "stream",
          "text": [
            "Enter an element (or press Enter to stop): hello 123132\n",
            "Enter an element (or press Enter to stop): \n"
          ]
        }
      ]
    }
  ]
}