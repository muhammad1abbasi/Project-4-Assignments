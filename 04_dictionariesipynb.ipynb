{
  "nbformat": 4,
  "nbformat_minor": 0,
  "metadata": {
    "colab": {
      "provenance": [],
      "authorship_tag": "ABX9TyOxJw+RC8EXHqoAdFreatzc",
      "include_colab_link": true
    },
    "kernelspec": {
      "name": "python3",
      "display_name": "Python 3"
    },
    "language_info": {
      "name": "python"
    }
  },
  "cells": [
    {
      "cell_type": "markdown",
      "metadata": {
        "id": "view-in-github",
        "colab_type": "text"
      },
      "source": [
        "<a href=\"https://colab.research.google.com/github/muhammad1abbasi/Project-4-Assignments/blob/main/04_dictionariesipynb.ipynb\" target=\"_parent\"><img src=\"https://colab.research.google.com/assets/colab-badge.svg\" alt=\"Open In Colab\"/></a>"
      ]
    },
    {
      "cell_type": "markdown",
      "source": [
        "00_count_nums.md"
      ],
      "metadata": {
        "id": "l9zUq4Tes0I3"
      }
    },
    {
      "cell_type": "code",
      "execution_count": 1,
      "metadata": {
        "colab": {
          "base_uri": "https://localhost:8080/"
        },
        "id": "fNDt_0z2r5Bo",
        "outputId": "93f59c0a-3f06-4e6a-fd43-7113a9a5b51c"
      },
      "outputs": [
        {
          "output_type": "stream",
          "name": "stdout",
          "text": [
            "Enter a number (or press Enter to finish): 020203\n",
            "Enter a number (or press Enter to finish): 42449\n",
            "Enter a number (or press Enter to finish): 427427478\n",
            "Enter a number (or press Enter to finish): \n",
            "20203 appears 1 times.\n",
            "42449 appears 1 times.\n",
            "427427478 appears 1 times.\n"
          ]
        }
      ],
      "source": [
        "from collections import defaultdict\n",
        "\n",
        "def get_user_numbers() -> list[int]:\n",
        "    \"\"\"\n",
        "    Prompts the user to enter numbers, storing them in a list.\n",
        "    Stops when a blank line is entered and returns the list of numbers.\n",
        "    \"\"\"\n",
        "    user_numbers = []\n",
        "    while (user_input := input(\"Enter a number (or press Enter to finish): \")) != \"\":\n",
        "        try:\n",
        "            user_numbers.append(int(user_input))\n",
        "        except ValueError:\n",
        "            print(\"Invalid input. Please enter a valid number.\")\n",
        "\n",
        "    return user_numbers\n",
        "\n",
        "def count_nums(num_list: list[int]) -> dict[int, int]:\n",
        "    \"\"\"\n",
        "    Counts occurrences of each number in the list and returns a dictionary.\n",
        "    \"\"\"\n",
        "    num_dict = defaultdict(int)\n",
        "    for num in num_list:\n",
        "        num_dict[num] += 1\n",
        "    return dict(num_dict)\n",
        "\n",
        "def print_counts(num_dict: dict[int, int]) -> None:\n",
        "    \"\"\"\n",
        "    Prints each number and how many times it appears.\n",
        "    \"\"\"\n",
        "    for num, count in sorted(num_dict.items()):\n",
        "        print(f\"{num} appears {count} times.\")\n",
        "\n",
        "def main() -> None:\n",
        "    \"\"\"\n",
        "    Gets user input, counts occurrences, and prints results.\n",
        "    \"\"\"\n",
        "    user_numbers = get_user_numbers()\n",
        "    if user_numbers:\n",
        "        num_counts = count_nums(user_numbers)\n",
        "        print_counts(num_counts)\n",
        "    else:\n",
        "        print(\"No numbers were entered.\")\n",
        "\n",
        "if __name__ == \"__main__\":\n",
        "    main()\n"
      ]
    },
    {
      "cell_type": "markdown",
      "source": [
        "01_phonebook.md"
      ],
      "metadata": {
        "id": "cplEdtJysqya"
      }
    },
    {
      "cell_type": "code",
      "source": [
        "def read_phone_numbers() -> dict[str, str]:\n",
        "    \"\"\"\n",
        "    Collects names and phone numbers from the user to store in a dictionary.\n",
        "    Stops when the user enters a blank name and returns the phonebook.\n",
        "    \"\"\"\n",
        "    phonebook = {}\n",
        "\n",
        "    while (name := input(\"Enter name (or press Enter to finish): \").strip()):\n",
        "        number = input(\"Enter number: \").strip()\n",
        "        phonebook[name] = number\n",
        "\n",
        "    return phonebook\n",
        "\n",
        "\n",
        "def print_phonebook(phonebook: dict[str, str]) -> None:\n",
        "    \"\"\"\n",
        "    Prints all names and numbers in the phonebook.\n",
        "    \"\"\"\n",
        "    if not phonebook:\n",
        "        print(\"Phonebook is empty.\")\n",
        "        return\n",
        "\n",
        "    print(\"\\nPhonebook Entries:\")\n",
        "    for name, number in sorted(phonebook.items()):\n",
        "        print(f\"{name} -> {number}\")\n",
        "\n",
        "\n",
        "def lookup_numbers(phonebook: dict[str, str]) -> None:\n",
        "    \"\"\"\n",
        "    Allows the user to look up phone numbers by entering a name.\n",
        "    Stops when a blank name is entered.\n",
        "    \"\"\"\n",
        "    while (name := input(\"Enter name to lookup (or press Enter to finish): \").strip()):\n",
        "        print(phonebook.get(name, f\"{name} is not in the phonebook\"))\n",
        "\n",
        "\n",
        "def main() -> None:\n",
        "    \"\"\"\n",
        "    Manages the phonebook: collecting entries, displaying them, and allowing lookups.\n",
        "    \"\"\"\n",
        "    phonebook = read_phone_numbers()\n",
        "    print_phonebook(phonebook)\n",
        "    lookup_numbers(phonebook)\n",
        "\n",
        "\n",
        "if __name__ == \"__main__\":\n",
        "    main()\n"
      ],
      "metadata": {
        "colab": {
          "base_uri": "https://localhost:8080/"
        },
        "id": "-ou4ha8_ssTd",
        "outputId": "3ae63939-bddc-4026-b1eb-e332a877df4d"
      },
      "execution_count": 2,
      "outputs": [
        {
          "name": "stdout",
          "output_type": "stream",
          "text": [
            "Enter name (or press Enter to finish): Muhammad\n",
            "Enter number: )9038423\n",
            "Enter name (or press Enter to finish): ali\n",
            "Enter number: 932932\n",
            "Enter name (or press Enter to finish): \n",
            "\n",
            "Phonebook Entries:\n",
            "Muhammad -> )9038423\n",
            "ali -> 932932\n",
            "Enter name to lookup (or press Enter to finish): ali\n",
            "932932\n",
            "Enter name to lookup (or press Enter to finish): \n"
          ]
        }
      ]
    },
    {
      "cell_type": "markdown",
      "source": [
        "02_pop_up_shop.md"
      ],
      "metadata": {
        "id": "6VdH8tPMtbUo"
      }
    },
    {
      "cell_type": "code",
      "source": [
        "def main():\n",
        "  fruits = {'apple': 1.5, 'duration': 50, 'jackfruit': 80, 'kiwi': 1, 'rambutan': 1.5, 'mango': 5 }\n",
        "\n",
        "  total_cost = 0\n",
        "  for fruit_name in fruits:\n",
        "    price = fruits[fruit_name]\n",
        "    amount_bought = int(input(\"How many (\" + fruit_name +\") do you want to buy?: \"))\n",
        "    total_cost += (price * amount_bought)\n",
        "\n",
        "  print(\"Your total is $\" + str(total_cost))\n",
        "\n",
        "if __name__ == \"__main__\":\n",
        "  main()"
      ],
      "metadata": {
        "colab": {
          "base_uri": "https://localhost:8080/"
        },
        "id": "Nr23NsKstchq",
        "outputId": "ad2d84d8-6d85-4b8b-a90e-5bc39844c479"
      },
      "execution_count": 4,
      "outputs": [
        {
          "output_type": "stream",
          "name": "stdout",
          "text": [
            "How many (apple) do you want to buy?: 7\n",
            "How many (duration) do you want to buy?: 2\n",
            "How many (jackfruit) do you want to buy?: 8\n",
            "How many (kiwi) do you want to buy?: 9\n",
            "How many (rambutan) do you want to buy?: 70\n",
            "How many (mango) do you want to buy?: 12\n",
            "Your total is $924.5\n"
          ]
        }
      ]
    },
    {
      "cell_type": "markdown",
      "source": [
        "03_powerful_passwords.md"
      ],
      "metadata": {
        "id": "i8f6tMgou-fe"
      }
    },
    {
      "cell_type": "code",
      "source": [
        "from hashlib import sha256\n",
        "\n",
        "def hash_password(password: str) -> str:\n",
        "    \"\"\"\n",
        "    Hashes a password using SHA-256 and returns its hexadecimal representation.\n",
        "\n",
        "    Args:\n",
        "        password (str): The password to be hashed.\n",
        "\n",
        "    Returns:\n",
        "        str: The hashed password as a hexadecimal string.\n",
        "    \"\"\"\n",
        "    return sha256(password.encode()).hexdigest()\n",
        "\n",
        "\n",
        "def login(email: str, stored_logins: dict[str, str], password_to_check: str) -> bool:\n",
        "    \"\"\"\n",
        "    Checks if the provided email exists in the stored logins and\n",
        "    verifies whether the given password matches the stored hash.\n",
        "\n",
        "    Args:\n",
        "        email (str): The email for authentication.\n",
        "        stored_logins (dict): A dictionary mapping emails to their hashed passwords.\n",
        "        password_to_check (str): The password to be verified.\n",
        "\n",
        "    Returns:\n",
        "        bool: True if the email exists and the password is correct, otherwise False.\n",
        "    \"\"\"\n",
        "    return stored_logins.get(email) == hash_password(password_to_check)\n",
        "\n",
        "\n",
        "def main() -> None:\n",
        "    \"\"\"\n",
        "    Simulates user login attempts with stored hashed passwords.\n",
        "    \"\"\"\n",
        "    stored_logins = {\n",
        "        \"example@gmail.com\": hash_password(\"password\"),\n",
        "        \"code_in_placer@cip.org\": hash_password(\"Karel\"),\n",
        "        \"student@stanford.edu\": hash_password(\"123!456?789\"),\n",
        "    }\n",
        "\n",
        "    test_cases = [\n",
        "        (\"example@gmail.com\", \"word\"),\n",
        "        (\"example@gmail.com\", \"password\"),\n",
        "        (\"code_in_placer@cip.org\", \"Karel\"),\n",
        "        (\"code_in_placer@cip.org\", \"karel\"),\n",
        "        (\"student@stanford.edu\", \"password\"),\n",
        "        (\"student@stanford.edu\", \"123!456?789\"),\n",
        "        (\"unknown@domain.com\", \"password\"),  # Edge case: non-existent email\n",
        "    ]\n",
        "\n",
        "    for email, password in test_cases:\n",
        "        result = login(email, stored_logins, password)\n",
        "        print(f\"Login attempt for {email}: {'Success' if result else 'Failed'}\")\n",
        "\n",
        "\n",
        "if __name__ == '__main__':\n",
        "    main()\n"
      ],
      "metadata": {
        "colab": {
          "base_uri": "https://localhost:8080/"
        },
        "id": "HRsGCTGzt8X3",
        "outputId": "8437417a-f244-4b74-dfd5-2e371b0c6925"
      },
      "execution_count": 5,
      "outputs": [
        {
          "output_type": "stream",
          "name": "stdout",
          "text": [
            "Login attempt for example@gmail.com: Failed\n",
            "Login attempt for example@gmail.com: Success\n",
            "Login attempt for code_in_placer@cip.org: Success\n",
            "Login attempt for code_in_placer@cip.org: Failed\n",
            "Login attempt for student@stanford.edu: Failed\n",
            "Login attempt for student@stanford.edu: Success\n",
            "Login attempt for unknown@domain.com: Failed\n"
          ]
        }
      ]
    }
  ]
}