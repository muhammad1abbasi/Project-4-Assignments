{
  "nbformat": 4,
  "nbformat_minor": 0,
  "metadata": {
    "colab": {
      "provenance": [],
      "authorship_tag": "ABX9TyPTxnTOBuCZfzQgcG7ap852",
      "include_colab_link": true
    },
    "kernelspec": {
      "name": "python3",
      "display_name": "Python 3"
    },
    "language_info": {
      "name": "python"
    }
  },
  "cells": [
    {
      "cell_type": "markdown",
      "metadata": {
        "id": "view-in-github",
        "colab_type": "text"
      },
      "source": [
        "<a href=\"https://colab.research.google.com/github/muhammad1abbasi/Project-4-Assignments/blob/main/03_if_statements.ipynb\" target=\"_parent\"><img src=\"https://colab.research.google.com/assets/colab-badge.svg\" alt=\"Open In Colab\"/></a>"
      ]
    },
    {
      "cell_type": "markdown",
      "source": [
        "01_print_events.md"
      ],
      "metadata": {
        "id": "wwR5-i8yh8gK"
      }
    },
    {
      "cell_type": "code",
      "execution_count": 1,
      "metadata": {
        "colab": {
          "base_uri": "https://localhost:8080/"
        },
        "id": "kx10nlC_h6LU",
        "outputId": "a1220f31-cd63-4120-8a64-122be6edf9f5"
      },
      "outputs": [
        {
          "output_type": "stream",
          "name": "stdout",
          "text": [
            "0\n",
            "2\n",
            "4\n",
            "6\n",
            "8\n",
            "10\n",
            "12\n",
            "14\n",
            "16\n",
            "18\n",
            "20\n",
            "22\n",
            "24\n",
            "26\n",
            "28\n",
            "30\n",
            "32\n",
            "34\n",
            "36\n",
            "38\n"
          ]
        }
      ],
      "source": [
        "def main():\n",
        "\n",
        "  for i in range(20):\n",
        "    print(i * 2)\n",
        "\n",
        "if __name__ == \"__main__\":\n",
        "  main()"
      ]
    },
    {
      "cell_type": "markdown",
      "source": [
        "02_international_voting_age.md"
      ],
      "metadata": {
        "id": "-eM4Im6pkAVh"
      }
    },
    {
      "cell_type": "code",
      "source": [
        "# Voting age constants for different countries\n",
        "VOTING_AGES = {\n",
        "    \"Peturksbouipo\": 16,\n",
        "    \"Stanlau\": 25,\n",
        "    \"Mayengua\": 48\n",
        "}\n",
        "\n",
        "def check_voting_eligibility(age: int) -> None:\n",
        "    \"\"\"\n",
        "    Checks and prints whether the user is eligible to vote in each country.\n",
        "    \"\"\"\n",
        "    for country, min_age in VOTING_AGES.items():\n",
        "        if age >= min_age:\n",
        "            print(f\"You can vote in {country} where the voting age is {min_age}.\")\n",
        "        else:\n",
        "            print(f\"You cannot vote in {country} where the voting age is {min_age}.\")\n",
        "\n",
        "def main() -> None:\n",
        "    \"\"\"\n",
        "    Gets user input for age and checks voting eligibility.\n",
        "    \"\"\"\n",
        "    try:\n",
        "        age = int(input(\"How old are you? \"))\n",
        "        check_voting_eligibility(age)\n",
        "    except ValueError:\n",
        "        print(\"Invalid input. Please enter a valid age.\")\n",
        "\n",
        "if __name__ == \"__main__\":\n",
        "    main()\n"
      ],
      "metadata": {
        "colab": {
          "base_uri": "https://localhost:8080/"
        },
        "id": "gAt9gXDdkLp4",
        "outputId": "76f9d54f-95b7-47ab-b8e2-33026d4a7a6c"
      },
      "execution_count": 2,
      "outputs": [
        {
          "output_type": "stream",
          "name": "stdout",
          "text": [
            "How old are you? 23\n",
            "You can vote in Peturksbouipo where the voting age is 16.\n",
            "You cannot vote in Stanlau where the voting age is 25.\n",
            "You cannot vote in Mayengua where the voting age is 48.\n"
          ]
        }
      ]
    },
    {
      "cell_type": "markdown",
      "source": [
        "03_leap_year.md"
      ],
      "metadata": {
        "id": "-98I8geVk7CB"
      }
    },
    {
      "cell_type": "code",
      "source": [
        "def main():\n",
        "   year = int(input('Please input a year'))\n",
        "\n",
        "   if year % 4 == 0:\n",
        "     if year % 100 == 0:\n",
        "       if year % 400 == 0:\n",
        "        print(\"Thats a leap year!\")\n",
        "       else:\n",
        "        print(\"Thats not a leap year.\")\n",
        "     else:\n",
        "      print(\"Thats a leap year!\")\n",
        "   else:\n",
        "    print(\"Thats not a leap year.\")\n",
        "\n",
        "if __name__ == \"__main__\":\n",
        "  main()"
      ],
      "metadata": {
        "colab": {
          "base_uri": "https://localhost:8080/"
        },
        "id": "YbWhCQh9k-8o",
        "outputId": "4faff85d-d2ac-4af2-b1c6-0fc107f197b5"
      },
      "execution_count": 3,
      "outputs": [
        {
          "output_type": "stream",
          "name": "stdout",
          "text": [
            "Please input a year2002\n",
            "Thats not a leap year.\n"
          ]
        }
      ]
    },
    {
      "cell_type": "markdown",
      "source": [
        "04_tall_enough_to_ride.md"
      ],
      "metadata": {
        "id": "O3vZ_NJ4oUOY"
      }
    },
    {
      "cell_type": "code",
      "source": [
        "MINIMUM_HEIGHT : int = 50\n",
        "\n",
        "def main():\n",
        "  height = float(input(\"How tall are you?\"))\n",
        "  if height >= MINIMUM_HEIGHT:\n",
        "    print(\"You're tall enough to ride!\")\n",
        "  else:\n",
        "    print(\"You're not tall enough to ride, but may be next year :()\")\n",
        "\n",
        "if __name__ == \"__main__\":\n",
        "  main()"
      ],
      "metadata": {
        "colab": {
          "base_uri": "https://localhost:8080/"
        },
        "id": "_h4SDu0hoVoT",
        "outputId": "2d69138d-f5f1-4cf3-f88c-1605c45da250"
      },
      "execution_count": 4,
      "outputs": [
        {
          "output_type": "stream",
          "name": "stdout",
          "text": [
            "How tall are you?6.2\n",
            "You're not tall enough to ride, but may be next year :()\n"
          ]
        }
      ]
    },
    {
      "cell_type": "markdown",
      "source": [
        "05_random_numbers.md"
      ],
      "metadata": {
        "id": "HtwApLuhpOkl"
      }
    },
    {
      "cell_type": "code",
      "source": [
        "import random\n",
        "N_NUMBERS : int = 10\n",
        "MIN_VALUE : int = 1\n",
        "MAX_VALUE : int = 100\n",
        "\n",
        "def main():\n",
        "  \"\"\"\n",
        "  Your should write your code here Make sure to delete the 'pass' line before starting to write your own code.\n",
        "  \"\"\"\n",
        "  pass\n",
        "\n",
        "if __name__ == \"__main__\":\n",
        "  main()"
      ],
      "metadata": {
        "id": "yyEn5NZNpTIe"
      },
      "execution_count": 6,
      "outputs": []
    }
  ]
}