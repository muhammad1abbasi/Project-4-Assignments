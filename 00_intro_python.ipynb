{
  "nbformat": 4,
  "nbformat_minor": 0,
  "metadata": {
    "colab": {
      "provenance": [],
      "authorship_tag": "ABX9TyNM5IKML5VPb4V3my+Ozrwg",
      "include_colab_link": true
    },
    "kernelspec": {
      "name": "python3",
      "display_name": "Python 3"
    },
    "language_info": {
      "name": "python"
    }
  },
  "cells": [
    {
      "cell_type": "markdown",
      "metadata": {
        "id": "view-in-github",
        "colab_type": "text"
      },
      "source": [
        "<a href=\"https://colab.research.google.com/github/muhammad1abbasi/Project-4-Assignments/blob/main/00_intro_python.ipynb\" target=\"_parent\"><img src=\"https://colab.research.google.com/assets/colab-badge.svg\" alt=\"Open In Colab\"/></a>"
      ]
    },
    {
      "cell_type": "markdown",
      "source": [
        "Assignments 00 to 05 Complete One By One"
      ],
      "metadata": {
        "id": "F_GwoyKezirI"
      }
    },
    {
      "cell_type": "markdown",
      "source": [
        "1: Intro To Python"
      ],
      "metadata": {
        "id": "fxM2PEdN0fnk"
      }
    },
    {
      "cell_type": "markdown",
      "source": [
        "A: Assighment 1 Add two numbers"
      ],
      "metadata": {
        "id": "yBpXM0540oZl"
      }
    },
    {
      "cell_type": "code",
      "execution_count": null,
      "metadata": {
        "id": "9D9h0X2XzfU9",
        "colab": {
          "base_uri": "https://localhost:8080/"
        },
        "outputId": "ce3ff50a-a711-433e-9b70-dee6440a4cbf"
      },
      "outputs": [
        {
          "output_type": "stream",
          "name": "stdout",
          "text": [
            "This program adds two numbers.\n",
            "Enter first number: 5\n",
            "Enter second number: 4\n",
            "The total is 9.\n"
          ]
        }
      ],
      "source": [
        "def main():\n",
        "  print(\"This program adds two numbers.\")\n",
        "  num1 : str = input(\"Enter first number: \")\n",
        "  num1 : int = int(num1)\n",
        "  num2 : str = input(\"Enter second number: \")\n",
        "  num2 : int = int (num2)\n",
        "  total : int = num1 + num2\n",
        "  print(\"The total is \" + str(total) + \".\")\n",
        "\n",
        "if __name__ == \"__main__\":\n",
        "  main()"
      ]
    },
    {
      "cell_type": "markdown",
      "source": [
        "B: Assighment 2 agreement bot"
      ],
      "metadata": {
        "id": "geGdLNmL5mq7"
      }
    },
    {
      "cell_type": "code",
      "source": [],
      "metadata": {
        "id": "pfyYSDwQ8x9f"
      },
      "execution_count": null,
      "outputs": []
    },
    {
      "cell_type": "code",
      "source": [
        "def main():\n",
        "  user : str = input(\"Enter Your Favorite Animal\")\n",
        "  print(str(user))\n",
        "  print(\"My Favorite animal is also : \" + str(user))\n",
        "if __name__ == '__main__':\n",
        "    main()"
      ],
      "metadata": {
        "colab": {
          "base_uri": "https://localhost:8080/"
        },
        "id": "3oNE-gPB5zdR",
        "outputId": "4f57e62f-25ec-49df-e0a4-f7e65fc4b4a7"
      },
      "execution_count": null,
      "outputs": [
        {
          "output_type": "stream",
          "name": "stdout",
          "text": [
            "Enter Your Favorite AnimalPapoo\n",
            "Papoo\n",
            "My Favorite animal is also : Papoo\n"
          ]
        }
      ]
    },
    {
      "cell_type": "markdown",
      "source": [
        "C: Assighment 3 fahrenheit to celsius"
      ],
      "metadata": {
        "id": "RBXla-tt83oh"
      }
    },
    {
      "cell_type": "code",
      "source": [
        "fahrenheit = float(input(\"Enter temperature in Fahrenheit: \"))\n",
        "\n",
        "celsius = (fahrenheit - 32) * 5.0 / 9.0\n",
        "\n",
        "print(f\"Temperature: {fahrenheit}F = {celsius}C\")\n",
        "\n"
      ],
      "metadata": {
        "colab": {
          "base_uri": "https://localhost:8080/"
        },
        "id": "ZuVVrDcH9209",
        "outputId": "3c337187-6770-4cf7-a3a0-cc303a63c6be"
      },
      "execution_count": null,
      "outputs": [
        {
          "output_type": "stream",
          "name": "stdout",
          "text": [
            "Enter temperature in Fahrenheit: 90\n",
            "Temperature: 90.0F = 32.22222222222222C\n"
          ]
        }
      ]
    },
    {
      "cell_type": "markdown",
      "source": [
        "D : Assighment 4 how old are they"
      ],
      "metadata": {
        "id": "CNtM4dAF-t3o"
      }
    },
    {
      "cell_type": "code",
      "source": [
        "def main():\n",
        "  Anton : int = 21\n",
        "  Beth : int = 6 + Anton\n",
        "  chen : int = 20 + Beth\n",
        "  drew : int = chen + Anton\n",
        "  ethan : int = chen\n",
        "\n",
        "  print(\"Anthon is \" + str (Anton))\n",
        "  print(\"Beth is \" + str(Beth))\n",
        "  print(\"Chen is \" + str(chen))\n",
        "  print(\"Drew is \" + str(drew))\n",
        "  print(\"Ethan is \" + str(ethan))\n",
        "\n",
        "if __name__ == \"__main__\":\n",
        "    main()\n"
      ],
      "metadata": {
        "colab": {
          "base_uri": "https://localhost:8080/"
        },
        "id": "R_ddWUOs-4CQ",
        "outputId": "4cb784e7-ceee-4150-9212-ec301ce4e8b8"
      },
      "execution_count": null,
      "outputs": [
        {
          "output_type": "stream",
          "name": "stdout",
          "text": [
            "Anthon is 21\n",
            "Beth is 27\n",
            "Chen is 47\n",
            "Drew is 68\n",
            "Ethan is 47\n"
          ]
        }
      ]
    },
    {
      "cell_type": "markdown",
      "source": [
        "F: Assighment 5 triangle perimeter"
      ],
      "metadata": {
        "id": "Q-nxdn3BKZlc"
      }
    },
    {
      "cell_type": "code",
      "source": [
        "def main():\n",
        "  side1: float = float(input(\"Enter side 1: \"))\n",
        "  side2: float = float(input(\"Enter side 2: \"))\n",
        "  side3: float = float(input(\"Enter side 3: \"))\n",
        "\n",
        "  print(\"The perimeter of the triangle is \" + str(side1 + side2 + side3))\n",
        "\n",
        "if __name__ == \"__main__\":\n",
        "    main()"
      ],
      "metadata": {
        "colab": {
          "base_uri": "https://localhost:8080/"
        },
        "id": "afDm10qPKkpK",
        "outputId": "44c743cb-1f60-41c1-e5db-f81c189c31b6"
      },
      "execution_count": null,
      "outputs": [
        {
          "output_type": "stream",
          "name": "stdout",
          "text": [
            "Enter side 1: 5\n",
            "Enter side 2: 5\n",
            "Enter side 3: 5\n",
            "The perimeter of the triangle is 15.0\n"
          ]
        }
      ]
    },
    {
      "cell_type": "markdown",
      "source": [
        "G: Assighment 6 square number"
      ],
      "metadata": {
        "id": "gjlI5o7pLpvB"
      }
    },
    {
      "cell_type": "code",
      "source": [
        "def main():\n",
        "  num: float = float(input(\"Enter a number for cheak its square: \"))\n",
        "  print(str(num)+ \" Squared is \" + str(num ** 2))\n",
        "\n",
        "if __name__ == \"__main__\":\n",
        "    main()"
      ],
      "metadata": {
        "colab": {
          "base_uri": "https://localhost:8080/"
        },
        "id": "s7amQfLvLxmn",
        "outputId": "fec111c1-c475-4008-8c43-7de00396e61b"
      },
      "execution_count": null,
      "outputs": [
        {
          "output_type": "stream",
          "name": "stdout",
          "text": [
            "Enter a number for cheak its square: 7\n",
            "7.0 Squared is 49.0\n"
          ]
        }
      ]
    }
  ]
}